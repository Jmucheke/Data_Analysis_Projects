{
 "cells": [
  {
   "cell_type": "code",
   "execution_count": 11,
   "id": "f0f920a3",
   "metadata": {},
   "outputs": [],
   "source": [
    "# Importing necessary libraries\n",
    "import os, shutil"
   ]
  },
  {
   "cell_type": "code",
   "execution_count": 12,
   "id": "89287ad8",
   "metadata": {},
   "outputs": [],
   "source": [
    "path = r\"C:\\Users\\HP\\Downloads/\""
   ]
  },
  {
   "cell_type": "code",
   "execution_count": 13,
   "id": "6ea8ba12",
   "metadata": {},
   "outputs": [],
   "source": [
    "file_name = os.listdir(path)"
   ]
  },
  {
   "cell_type": "code",
   "execution_count": 14,
   "id": "45569393",
   "metadata": {},
   "outputs": [],
   "source": [
    "folders = ['images', 'documents', 'archives', 'datasets', 'code', 'others']\n",
    "# update path to create a folder where the rest of the folders will be created\n",
    "update_path = r\"C:\\Users\\HP\\Downloads/sortingfolder\"\n",
    "if not os.path.exists(update_path):\n",
    "    os.mkdir(update_path)\n",
    "    \n",
    "\n",
    "for loop in range(len(folders)):\n",
    "    folder_path = os.path.join(update_path, folders[loop])\n",
    "    if not os.path.exists(folder_path):\n",
    "        os.mkdir(folder_path)"
   ]
  },
  {
   "cell_type": "code",
   "execution_count": null,
   "id": "fe3fec06",
   "metadata": {},
   "outputs": [],
   "source": [
    "# Function to move files to respective folders\n",
    "\n",
    "def move_files(file_name):\n",
    "    for file in file_name:\n",
    "        full_path = os.path.join(path, file)\n",
    "        \n",
    "        if not os.path.isfile(full_path):\n",
    "            continue\n",
    "        name, ext = os.path.splitext(file)\n",
    "\n",
    "        ext = ext.lower()\n",
    "        if ext in ['.jpg', '.jpeg', '.png', '.gif', '.bmp', '.tiff']:\n",
    "            shutil.move(full_path, os.path.join(update_path, 'images', file))\n",
    "        elif ext in ['.pdf', '.doc', '.docx', '.txt', '.xls', '.xlsx', '.ppt', '.pptx']:\n",
    "            shutil.move(full_path, os.path.join(update_path, 'documents', file))\n",
    "        elif ext in ['.zip', '.rar', '.tar', '.gz']:\n",
    "            shutil.move(full_path, os.path.join(update_path, 'archives', file))\n",
    "        elif ext in ['.csv', '.json', '.xml', '.xlsx']:\n",
    "            shutil.move(full_path, os.path.join(update_path, 'datasets', file))\n",
    "        elif ext in ['.py', '.java', '.cpp', '.js', '.jsx', '.html', '.css']:\n",
    "            shutil.move(full_path, os.path.join(update_path, 'code', file))\n",
    "        else:\n",
    "            shutil.move(full_path, os.path.join(update_path, 'others', file))"
   ]
  },
  {
   "cell_type": "code",
   "execution_count": 18,
   "id": "3e07c81e",
   "metadata": {},
   "outputs": [],
   "source": [
    "# Calling the function to move files\n",
    "move_files(file_name)"
   ]
  }
 ],
 "metadata": {
  "kernelspec": {
   "display_name": "Python 3",
   "language": "python",
   "name": "python3"
  },
  "language_info": {
   "codemirror_mode": {
    "name": "ipython",
    "version": 3
   },
   "file_extension": ".py",
   "mimetype": "text/x-python",
   "name": "python",
   "nbconvert_exporter": "python",
   "pygments_lexer": "ipython3",
   "version": "3.10.11"
  }
 },
 "nbformat": 4,
 "nbformat_minor": 5
}
