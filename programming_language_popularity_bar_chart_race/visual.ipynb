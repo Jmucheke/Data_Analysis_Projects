{
 "cells": [
  {
   "cell_type": "code",
   "execution_count": 1,
   "id": "3214e4b6",
   "metadata": {},
   "outputs": [],
   "source": [
    "# importing necessary libraries\n",
    "import pandas as pd\n",
    "import matplotlib.pyplot as plt\n",
    "import numpy as np\n",
    "import imageio"
   ]
  },
  {
   "cell_type": "code",
   "execution_count": 2,
   "id": "0f336308",
   "metadata": {},
   "outputs": [
    {
     "data": {
      "text/html": [
       "<div>\n",
       "<style scoped>\n",
       "    .dataframe tbody tr th:only-of-type {\n",
       "        vertical-align: middle;\n",
       "    }\n",
       "\n",
       "    .dataframe tbody tr th {\n",
       "        vertical-align: top;\n",
       "    }\n",
       "\n",
       "    .dataframe thead th {\n",
       "        text-align: right;\n",
       "    }\n",
       "</style>\n",
       "<table border=\"1\" class=\"dataframe\">\n",
       "  <thead>\n",
       "    <tr style=\"text-align: right;\">\n",
       "      <th></th>\n",
       "      <th>Date</th>\n",
       "      <th>C/C++</th>\n",
       "      <th>C#</th>\n",
       "      <th>Go</th>\n",
       "      <th>Java</th>\n",
       "      <th>JavaScript</th>\n",
       "      <th>PHP</th>\n",
       "      <th>Python</th>\n",
       "      <th>R</th>\n",
       "    </tr>\n",
       "  </thead>\n",
       "  <tbody>\n",
       "    <tr>\n",
       "      <th>0</th>\n",
       "      <td>January 2011</td>\n",
       "      <td>12.21</td>\n",
       "      <td>6.39</td>\n",
       "      <td>0.04</td>\n",
       "      <td>28.45</td>\n",
       "      <td>6.81</td>\n",
       "      <td>16.21</td>\n",
       "      <td>6.65</td>\n",
       "      <td>1.32</td>\n",
       "    </tr>\n",
       "    <tr>\n",
       "      <th>1</th>\n",
       "      <td>February 2011</td>\n",
       "      <td>12.46</td>\n",
       "      <td>6.41</td>\n",
       "      <td>0.03</td>\n",
       "      <td>28.23</td>\n",
       "      <td>6.93</td>\n",
       "      <td>16.23</td>\n",
       "      <td>6.87</td>\n",
       "      <td>1.28</td>\n",
       "    </tr>\n",
       "    <tr>\n",
       "      <th>2</th>\n",
       "      <td>November 2011</td>\n",
       "      <td>12.71</td>\n",
       "      <td>5.98</td>\n",
       "      <td>0.04</td>\n",
       "      <td>27.79</td>\n",
       "      <td>7.09</td>\n",
       "      <td>15.94</td>\n",
       "      <td>7.37</td>\n",
       "      <td>1.42</td>\n",
       "    </tr>\n",
       "    <tr>\n",
       "      <th>3</th>\n",
       "      <td>December 2011</td>\n",
       "      <td>12.37</td>\n",
       "      <td>6.13</td>\n",
       "      <td>0.03</td>\n",
       "      <td>27.78</td>\n",
       "      <td>7.19</td>\n",
       "      <td>15.75</td>\n",
       "      <td>7.68</td>\n",
       "      <td>1.43</td>\n",
       "    </tr>\n",
       "    <tr>\n",
       "      <th>4</th>\n",
       "      <td>January 2012</td>\n",
       "      <td>11.94</td>\n",
       "      <td>6.40</td>\n",
       "      <td>0.03</td>\n",
       "      <td>27.60</td>\n",
       "      <td>7.23</td>\n",
       "      <td>15.60</td>\n",
       "      <td>7.77</td>\n",
       "      <td>1.44</td>\n",
       "    </tr>\n",
       "  </tbody>\n",
       "</table>\n",
       "</div>"
      ],
      "text/plain": [
       "            Date  C/C++    C#    Go   Java  JavaScript    PHP  Python     R\n",
       "0   January 2011  12.21  6.39  0.04  28.45        6.81  16.21    6.65  1.32\n",
       "1  February 2011  12.46  6.41  0.03  28.23        6.93  16.23    6.87  1.28\n",
       "2  November 2011  12.71  5.98  0.04  27.79        7.09  15.94    7.37  1.42\n",
       "3  December 2011  12.37  6.13  0.03  27.78        7.19  15.75    7.68  1.43\n",
       "4   January 2012  11.94  6.40  0.03  27.60        7.23  15.60    7.77  1.44"
      ]
     },
     "execution_count": 2,
     "metadata": {},
     "output_type": "execute_result"
    }
   ],
   "source": [
    "# Load the dataset from the CSV file\n",
    "df = pd.read_csv('programming_language_popularity.csv')\n",
    "df.head()"
   ]
  },
  {
   "cell_type": "code",
   "execution_count": 3,
   "id": "af825697",
   "metadata": {},
   "outputs": [
    {
     "data": {
      "text/plain": [
       "Go            0.04\n",
       "R             1.32\n",
       "C#            6.39\n",
       "Python        6.65\n",
       "JavaScript    6.81\n",
       "Name: 0, dtype: float64"
      ]
     },
     "execution_count": 3,
     "metadata": {},
     "output_type": "execute_result"
    }
   ],
   "source": [
    "# Extracting the Date column\n",
    "date = df['Date'].iloc[0]\n",
    "data = df.drop(columns=['Date']).iloc[0]\n",
    "# Sorting data in ascending order of popularity\n",
    "data_sorted = data.sort_values()\n",
    "data_sorted.head()"
   ]
  },
  {
   "cell_type": "code",
   "execution_count": 4,
   "id": "43b2fe7d",
   "metadata": {},
   "outputs": [
    {
     "name": "stdout",
     "output_type": "stream",
     "text": [
      "Languages:  ['Go', 'R', 'C#', 'Python', 'JavaScript', 'C/C++', 'PHP', 'Java']\n"
     ]
    }
   ],
   "source": [
    "# Get the languages\n",
    "languages = data_sorted.index.tolist()\n",
    "print(\"Languages: \", languages)"
   ]
  },
  {
   "cell_type": "code",
   "execution_count": 5,
   "id": "dd9b85a2",
   "metadata": {},
   "outputs": [
    {
     "name": "stdout",
     "output_type": "stream",
     "text": [
      "Popularity scores:  [ 0.04  1.32  6.39  6.65  6.81 12.21 16.21 28.45]\n"
     ]
    }
   ],
   "source": [
    "# Get the popularity values\n",
    "popularity_scores = data_sorted.values\n",
    "# Print the extracted popularity scores\n",
    "print(\"Popularity scores: \", popularity_scores)"
   ]
  },
  {
   "cell_type": "code",
   "execution_count": 6,
   "id": "731dc2ba",
   "metadata": {},
   "outputs": [],
   "source": [
    "# asssigning colors to languages\n",
    "colors = {'Python': 'skyblue', 'Java': 'orange', 'JavaScript': 'green', 'C/C++': 'red', 'C#': 'purple',\n",
    "          'PHP': 'brown', 'Ruby': 'pink', 'R': 'gray', 'Go': 'pink'}"
   ]
  },
  {
   "cell_type": "code",
   "execution_count": 7,
   "id": "f18d9030",
   "metadata": {},
   "outputs": [
    {
     "data": {
      "image/png": "[encoded data removed]",
      "text/plain": [
       "<Figure size 1000x600 with 1 Axes>"
      ]
     },
     "metadata": {},
     "output_type": "display_data"
    }
   ],
   "source": [
    "# Plotting the bar chart\n",
    "\n",
    "# initialize the figure\n",
    "plt.subplots(figsize=(10, 6))\n",
    "# Create a horizontal bar chart\n",
    "plt.barh(languages, popularity_scores, color=[colors[lang] for lang in languages])\n",
    "plt.xlabel('Popularity')  \n",
    "plt.ylabel('Language')  \n",
    "plt.title('Programming Language Popularity in January 2011')\n",
    "# Show the plot\n",
    "plt.tight_layout()\n",
    "plt.show()"
   ]
  },
  {
   "cell_type": "code",
   "execution_count": 8,
   "id": "94c10660",
   "metadata": {},
   "outputs": [],
   "source": [
    "# function to create multiple frames\n",
    "def create_frame(frame):\n",
    "    fig, ax = plt.subplots(figsize=(10, 6))\n",
    "    \n",
    "    # Clear the current axis\n",
    "    ax.clear()\n",
    "    \n",
    "    # Extract the data for the current frame\n",
    "    date = df.iloc[frame]['Date']\n",
    "    data = df.iloc[frame].drop('Date')\n",
    "    new_date = pd.to_datetime(date).strftime('%B %Y')\n",
    "    \n",
    "    # Sorting data by popularity\n",
    "    data_sorted = data.sort_values(ascending=True)\n",
    "    \n",
    "    # Identify the most popular language\n",
    "    most_popular_language = data_sorted.index[0]\n",
    "    \n",
    "    # preparing the data for plotting\n",
    "    # remaining_languages = data_sorted.index[1:]\n",
    "    languages = data_sorted.index.tolist()\n",
    "    popularity = data_sorted.values\n",
    "    \n",
    "    ax.barh(languages, popularity, color=[colors[lang] for lang in languages])\n",
    "    \n",
    "    ax.set_title(f'Programming Language Popularity ({new_date})')\n",
    "    ax.set_xlabel('Popularity')\n",
    "    ax.set_ylabel('Language')\n",
    "    \n",
    "    # adjusting x-axis limit\n",
    "    ax.set_xlim(0, popularity[0] + 30)\n",
    "    \n",
    "    # creating a frame from the plot\n",
    "    fig.canvas.draw()\n",
    "    frame_data = np.frombuffer(fig.canvas.buffer_rgba(), dtype=np.uint8)\n",
    "    frame_data = frame_data.reshape(fig.canvas.get_width_height()[::-1] + (4,))\n",
    "    plt.close(fig)  # Close the figure to avoid display\n",
    "    \n",
    "    return frame_data\n",
    "\n",
    "# Generate frames for the animation\n",
    "frames = [create_frame(frame) for frame in range(len(df))]\n",
    "\n",
    "# Save the animation\n",
    "imageio.mimsave('language_race.gif', frames, fps=8)\n"
   ]
  }
 ],
 "metadata": {
  "kernelspec": {
   "display_name": "Python 3",
   "language": "python",
   "name": "python3"
  },
  "language_info": {
   "codemirror_mode": {
    "name": "ipython",
    "version": 3
   },
   "file_extension": ".py",
   "mimetype": "text/x-python",
   "name": "python",
   "nbconvert_exporter": "python",
   "pygments_lexer": "ipython3",
   "version": "3.10.11"
  }
 },
 "nbformat": 4,
 "nbformat_minor": 5
}
