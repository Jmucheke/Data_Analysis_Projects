{
 "cells": [
  {
   "cell_type": "code",
   "execution_count": 15,
   "id": "778b9b8d",
   "metadata": {},
   "outputs": [
    {
     "name": "stdout",
     "output_type": "stream",
     "text": [
      "{'rock': 20, 'paper': 15, 'scissors': 10, 'you': 25}\n"
     ]
    }
   ],
   "source": [
    "# age_names = {\n",
    "#     \"breakfast\": {\n",
    "#     \"rock\": 20,\n",
    "#     \"paper\": 15,\n",
    "#     \"scissors\": 10,\n",
    "#     \"you\": 25\n",
    "#     },\n",
    "#     \"lunch\": {\n",
    "#     \"rock\": 20,\n",
    "#     \"paper\": 15,\n",
    "#     \"scissors\": 10,\n",
    "#     \"you\": 25\n",
    "#     },\n",
    "#     \"supper\": {\n",
    "#     \"rock\": 20,\n",
    "#     \"paper\": 15,\n",
    "#     \"scissors\": 10,\n",
    "#     \"you\": 25\n",
    "#     }\n",
    "# }\n",
    "# print(age_names[\"breakfast\"])\n",
    "\n",
    "age_names = {\n",
    "    \"Breakfast\":\n",
    "    {\n",
    "    \"rock\": 20,\n",
    "    \"paper\": 15,\n",
    "    \"scissors\": 10,\n",
    "    \"you\": 25\n",
    "    }\n",
    "}\n",
    "\n",
    "print(age_names[\"Breakfast\"])"
   ]
  },
  {
   "cell_type": "code",
   "execution_count": null,
   "id": "9add4d92",
   "metadata": {},
   "outputs": [
    {
     "name": "stdout",
     "output_type": "stream",
     "text": [
      "['rock', 'paper', 'scissors', 'you']\n"
     ]
    }
   ],
   "source": [
    "age_names_list = list(age_names.keys())\n",
    "print(age_names_list)\n",
    "\n",
    "# 1: rock 0\n",
    "# 2: paper 1\n",
    "# 3: scissors 2\n",
    "# 4: you 3"
   ]
  },
  {
   "cell_type": "code",
   "execution_count": 4,
   "id": "f7b73f74",
   "metadata": {},
   "outputs": [
    {
     "name": "stdout",
     "output_type": "stream",
     "text": [
      "paper\n"
     ]
    }
   ],
   "source": [
    "age_name_2 = age_names_list[2 - 1]\n",
    "print(age_name_2)"
   ]
  },
  {
   "cell_type": "code",
   "execution_count": 6,
   "id": "bde21d5f",
   "metadata": {},
   "outputs": [
    {
     "name": "stdout",
     "output_type": "stream",
     "text": [
      "<class 'int'>\n"
     ]
    }
   ],
   "source": [
    "price = age_names[age_name_2]\n",
    "print(type(price))"
   ]
  },
  {
   "cell_type": "code",
   "execution_count": 8,
   "id": "b53244f4",
   "metadata": {},
   "outputs": [
    {
     "name": "stdout",
     "output_type": "stream",
     "text": [
      "Age of paper is 15 years old\n"
     ]
    }
   ],
   "source": [
    "print(\"Age of \" + age_name_2 + \" is \" + str(price) + \" years old\")"
   ]
  },
  {
   "cell_type": "code",
   "execution_count": 10,
   "id": "2478b4cf",
   "metadata": {},
   "outputs": [
    {
     "name": "stdout",
     "output_type": "stream",
     "text": [
      "Age of paper is 15 years old\n"
     ]
    }
   ],
   "source": [
    "print(f\"Age of {age_name_2} is {price} years old\")"
   ]
  },
  {
   "cell_type": "code",
   "execution_count": 11,
   "id": "1f156e66",
   "metadata": {},
   "outputs": [
    {
     "name": "stdout",
     "output_type": "stream",
     "text": [
      "Age of paper is 15 years old\n"
     ]
    }
   ],
   "source": [
    "# using format in print\n",
    "print(\"Age of {} is {} years old\".format(age_name_2, price))"
   ]
  }
 ],
 "metadata": {
  "kernelspec": {
   "display_name": "Python 3",
   "language": "python",
   "name": "python3"
  },
  "language_info": {
   "codemirror_mode": {
    "name": "ipython",
    "version": 3
   },
   "file_extension": ".py",
   "mimetype": "text/x-python",
   "name": "python",
   "nbconvert_exporter": "python",
   "pygments_lexer": "ipython3",
   "version": "3.10.11"
  }
 },
 "nbformat": 4,
 "nbformat_minor": 5
}
