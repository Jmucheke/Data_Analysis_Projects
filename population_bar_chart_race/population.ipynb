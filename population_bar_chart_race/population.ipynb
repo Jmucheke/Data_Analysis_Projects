{
 "cells": [
  {
   "cell_type": "code",
   "execution_count": 19,
   "id": "bc605cdf",
   "metadata": {},
   "outputs": [
    {
     "name": "stdout",
     "output_type": "stream",
     "text": [
      "   Year  Bangladesh     Brazil      China      India  Indonesia   Nigeria  \\\n",
      "0  1955    42086301   62533919  612241554  409880595   77273425  41086100   \n",
      "1  1960    48013504   72179226  660408056  450547679   87751068  45138458   \n",
      "2  1965    55385112   83373530  724218968  499123324  100267062  50127921   \n",
      "3  1970    64232482   95113265  827601394  555189792  114793178  55982144   \n",
      "4  1975    70066301  107216205  926240885  623102897  130680727  63374298   \n",
      "\n",
      "   Pakistan     Russia  United States  \n",
      "0  40488030  111355300      171685336  \n",
      "1  44988690  119871700      186720571  \n",
      "2  50917975  126503736      199733676  \n",
      "3  58142060  130148653      209513341  \n",
      "4  66816877  133804858      219081251  \n"
     ]
    }
   ],
   "source": [
    "import pandas as pd\n",
    "import matplotlib.pyplot as plt\n",
    "import numpy as np\n",
    "import imageio\n",
    "\n",
    "# Read the dataset\n",
    "df = pd.read_csv('country_population.csv')\n",
    "\n",
    "# Display the first few records\n",
    "print(df.head())"
   ]
  },
  {
   "cell_type": "code",
   "execution_count": 20,
   "id": "0c3688b2",
   "metadata": {},
   "outputs": [],
   "source": [
    "colors = {\n",
    "    'Bangladesh': 'skyblue',\n",
    "    'Brazil': 'pink',\n",
    "    'China': 'orange',\n",
    "    'India': 'blue',\n",
    "    'Indonesia': 'purple',\n",
    "    'Nigeria': 'brown',\n",
    "    'Pakistan': 'green',\n",
    "    'Russia': 'gray',\n",
    "    'United States': 'red'\n",
    "}"
   ]
  },
  {
   "cell_type": "code",
   "execution_count": 21,
   "id": "f6b936f6",
   "metadata": {},
   "outputs": [],
   "source": [
    "def population_to_millions(population):\n",
    "    return population / 1000000"
   ]
  },
  {
   "cell_type": "code",
   "execution_count": 26,
   "id": "b7a00129",
   "metadata": {},
   "outputs": [],
   "source": [
    "\n",
    "def create_frame(frame):\n",
    "    fig, ax = plt.subplots(figsize=(10, 6))\n",
    "    ax.clear()\n",
    "    year = df.iloc[frame]['Year']  # Get the year for the current frame\n",
    "    data = df.iloc[frame].drop('Year')  # Exclude the 'Year' column\n",
    "    data_sorted = data.sort_values()  # Sort data in ascending order of population, excluding China\n",
    "\n",
    "    normalized_data = population_to_millions(data_sorted)\n",
    "    countries = normalized_data.index  # Get the countries\n",
    "    populations = normalized_data.values  # Get the normalized population values\n",
    "    \n",
    "    # Create the horizontal bar chart\n",
    "    ax.barh(countries, populations, color=[colors[country] for country in countries])\n",
    "    \n",
    "    # Set title and labels\n",
    "    ax.set_title(f'Population by Country ({year})')\n",
    "    ax.set_xlabel('Population')\n",
    "    ax.set_ylabel('Country')\n",
    "    \n",
    "    # Adjust the x-axis limit to start from 50 million\n",
    "    ax.set_xlim(50, populations[-1] + 30)\n",
    "         \n",
    "    # Create a frame from the plot\n",
    "    plt.tight_layout()\n",
    "    fig.canvas.draw()\n",
    "    frame_data = np.frombuffer(fig.canvas.buffer_rgba(), dtype=np.uint8)\n",
    "    frame_data = frame_data.reshape(fig.canvas.get_width_height()[::-1] + (4,))\n",
    "    plt.close(fig)\n",
    "    return frame_data\n",
    "\n",
    "# Generate frames for the animation\n",
    "frames = [create_frame(frame) for frame in range(len(df))]\n",
    "\n",
    "# Save the animation\n",
    "imageio.mimsave('country_race.gif', frames, fps=8)"
   ]
  }
 ],
 "metadata": {
  "kernelspec": {
   "display_name": "Python 3",
   "language": "python",
   "name": "python3"
  },
  "language_info": {
   "codemirror_mode": {
    "name": "ipython",
    "version": 3
   },
   "file_extension": ".py",
   "mimetype": "text/x-python",
   "name": "python",
   "nbconvert_exporter": "python",
   "pygments_lexer": "ipython3",
   "version": "3.10.11"
  }
 },
 "nbformat": 4,
 "nbformat_minor": 5
}
